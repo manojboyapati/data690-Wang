{
 "cells": [
  {
   "cell_type": "markdown",
   "metadata": {},
   "source": [
    "# **MANOJ BOYAPATI**\n",
    "\n",
    "  "
   ]
  },
  {
   "cell_type": "markdown",
   "metadata": {},
   "source": [
    "# **Contact Information:**\n",
    "\n",
    "#### Phone: 443-454-0795\n",
    "#### E-mail: manojkb1@umbc.edu"
   ]
  },
  {
   "cell_type": "markdown",
   "metadata": {},
   "source": [
    "# **Career Objective**\n",
    "#### My aim to become a successfull Data Scientist and would love to expand my skills and learn new things."
   ]
  },
  {
   "cell_type": "markdown",
   "metadata": {},
   "source": [
    "# **Education**\n",
    "#### Pursing Masters in Data Science in *UMBC*  (2021-2023)\n",
    "#### Bachelors in Electronics and Communication from *Amity University Haryana* (2017-2021) with GPA 7.7\n",
    "\n"
   ]
  },
  {
   "cell_type": "markdown",
   "metadata": {},
   "source": [
    "# Experience\n",
    "#### Intern as a Data Analyst in DXC technologies, 2021"
   ]
  },
  {
   "cell_type": "markdown",
   "metadata": {},
   "source": [
    "# Technical Skills\n",
    "### Programming Skills: \n",
    "   #### Python, C, Verilog, VLSI\n",
    "### Tools : \n",
    "   #### Xilinx, Tableau, Labview"
   ]
  },
  {
   "cell_type": "markdown",
   "metadata": {},
   "source": [
    "# Projects\n",
    "### A WEB CAM MOTION DETECTOR / Python\n",
    "   •\tThis project proposes a method for detecting the motion of a particular object being observed by using open CV Python library. It detects the motion by comparing each frame captured by the camera with the previous one.\n",
    "### LUT optimization for Memory Based Computation / Verilog\n",
    "   •\tAntisymmetric product coding (APC) and modified Odd Multiple storage (OMS) scheme and combined them for efficient memory-based multiplication. The combined approach provides a reduction in LUT size to one-fourth of the conventional LUT.\n",
    "### Question Answering System / Python, NLP\n",
    "   •\tA python based simple chatbot which is able to give answers to all the questions asked from a set of databases. You can always set the database according to your choice.\n",
    "\n"
   ]
  },
  {
   "cell_type": "markdown",
   "metadata": {},
   "source": [
    "# Achievements\n",
    "• Organized college fest as one of the core members for two years.\n",
    "\n",
    "• Member of Entrepreneurship-Cell in Amity University Gurgaon.\n",
    "\n",
    "• Member of Saakar-Serving Humanity.\n",
    "\n",
    "• Participated and certified in Digital marketing workshop conducted by Shreyas Devarshetty Digital marketing Manager of a MNC.\n"
   ]
  }
 ],
 "metadata": {
  "kernelspec": {
   "display_name": "Python 3",
   "language": "python",
   "name": "python3"
  },
  "language_info": {
   "codemirror_mode": {
    "name": "ipython",
    "version": 3
   },
   "file_extension": ".py",
   "mimetype": "text/x-python",
   "name": "python",
   "nbconvert_exporter": "python",
   "pygments_lexer": "ipython3",
   "version": "3.8.3"
  }
 },
 "nbformat": 4,
 "nbformat_minor": 4
}
